{
 "cells": [
  {
   "cell_type": "code",
   "execution_count": 1,
   "metadata": {},
   "outputs": [],
   "source": [
    "import json\n",
    "\n",
    "from openai import OpenAI\n",
    "\n",
    "client = OpenAI()"
   ]
  },
  {
   "cell_type": "code",
   "execution_count": 2,
   "metadata": {},
   "outputs": [
    {
     "data": {
      "text/plain": [
       "'石川県では、能登半島地震で電気や水道が止まっている所があります。寒い日が続いているため、お年寄りや体の弱い人などが、今いる所より安全に避難できる場所を、早く用意しなければなりません。\\n\\n愛知県は、12の病院で約30人のベッドを用意できると言いました。自衛隊は11日の朝、石川県珠洲市の施設から15人のお年寄りを、ヘリコプターで愛知県に運びました。\\n\\nほかの県なども、被害を受けた人が避難できる場所を用意しています。NHKが調べると、12日午前11時までに、42の都道府県がアパートやホテルなどを用意すると言っています。'"
      ]
     },
     "execution_count": 2,
     "metadata": {},
     "output_type": "execute_result"
    }
   ],
   "source": [
    "article = \"\"\"\n",
    "石川県では、能登半島地震で電気や水道が止まっている所があります。寒い日が続いているため、お年寄りや体の弱い人などが、今いる所より安全に避難できる場所を、早く用意しなければなりません。\n",
    "\n",
    "愛知県は、12の病院で約30人のベッドを用意できると言いました。自衛隊は11日の朝、石川県珠洲市の施設から15人のお年寄りを、ヘリコプターで愛知県に運びました。\n",
    "\n",
    "ほかの県なども、被害を受けた人が避難できる場所を用意しています。NHKが調べると、12日午前11時までに、42の都道府県がアパートやホテルなどを用意すると言っています。\n",
    "\"\"\".strip()\n",
    "article"
   ]
  },
  {
   "cell_type": "code",
   "execution_count": 3,
   "metadata": {},
   "outputs": [
    {
     "data": {
      "text/plain": [
       "'{\"question\": \"石川県で電気や水道が止まっている理由は何ですか？\", \"options\": [{\"option\": \"能登半島地震の影響で\", \"isAnswer\": true }, {\"option\": \"雪のため\", \"isAnswer\": false }, {\"option\": \"台風のため\", \"isAnswer\": false }, {\"option\": \"火災のため\", \"isAnswer\": false }]}'"
      ]
     },
     "execution_count": 3,
     "metadata": {},
     "output_type": "execute_result"
    }
   ],
   "source": [
    "user_prompt = f\"\"\"\n",
    "Create exam question for reading comprehension with the article below.\n",
    "\n",
    "{article}\n",
    "\"\"\"\n",
    "\n",
    "system_prompt = \"\"\"\n",
    "Act as a language teacher who wants to set an exam to test her students' reading comprehension skills.\n",
    "Task:\n",
    "A. Create a question from the article in Japanese.\n",
    "B. Create 4 options for the student to choose from.\n",
    "C. Give the correct answer from the 4 options.\n",
    "\n",
    "Note:\n",
    "1. Give only 1 correct option.\n",
    "2. Give your output as \\{\"question\": \"Question\", \"options\": [{\"option\": \"Option 1\", \"isAnswer\": true }, {\"option\": \"Option 2\", \"isAnswer\": false }, {\"option\": \"Option 3\", \"isAnswer\": false }, {\"option\": \"Option 4\", \"isAnswer\": false }]\\}\n",
    "\"\"\"\n",
    "\n",
    "completion = client.chat.completions.create(\n",
    "  model=\"gpt-3.5-turbo\",\n",
    "  messages=[\n",
    "    {\n",
    "        \"role\": \"system\", \n",
    "        \"content\": system_prompt\n",
    "    },\n",
    "    {\n",
    "        \"role\": \"user\", \n",
    "        \"content\": user_prompt\n",
    "    }\n",
    "  ],\n",
    ")\n",
    "\n",
    "\n",
    "output = completion.choices[0].message.content\n",
    "output"
   ]
  },
  {
   "cell_type": "code",
   "execution_count": 4,
   "metadata": {},
   "outputs": [
    {
     "data": {
      "text/plain": [
       "{'question': '石川県で電気や水道が止まっている理由は何ですか？',\n",
       " 'options': [{'option': '能登半島地震の影響で', 'isAnswer': True},\n",
       "  {'option': '雪のため', 'isAnswer': False},\n",
       "  {'option': '台風のため', 'isAnswer': False},\n",
       "  {'option': '火災のため', 'isAnswer': False}]}"
      ]
     },
     "execution_count": 4,
     "metadata": {},
     "output_type": "execute_result"
    }
   ],
   "source": [
    "json.loads(output)"
   ]
  },
  {
   "cell_type": "code",
   "execution_count": 5,
   "metadata": {},
   "outputs": [],
   "source": [
    "speech_file_path = \"audio.mp3\"\n",
    "\n",
    "response = client.audio.speech.create(\n",
    "  model=\"tts-1-hd\",\n",
    "  voice=\"nova\",\n",
    "  input=article\n",
    ")\n",
    "\n",
    "response.stream_to_file(speech_file_path)"
   ]
  },
  {
   "cell_type": "code",
   "execution_count": 6,
   "metadata": {},
   "outputs": [
    {
     "data": {
      "text/plain": [
       "'In Ishikawa Prefecture, there are areas where electricity and water have been cut off due to the Noto Peninsula earthquake. Due to the continued cold weather, it is necessary to quickly prepare safe evacuation areas for the elderly and those with weak health.\\n\\nAichi Prefecture has stated that it can provide approximately 30 beds in 12 hospitals. On the morning of the 11th, the Self-Defense Forces transported 15 elderly people from a facility in Suzu City, Ishikawa Prefecture, to Aichi Prefecture by helicopter.\\n\\nOther prefectures are also preparing evacuation areas for those affected by the disaster. According to NHK, as of 11 am on the 12th, 42 prefectures have stated that they will provide apartments or hotels, among other places.'"
      ]
     },
     "execution_count": 6,
     "metadata": {},
     "output_type": "execute_result"
    }
   ],
   "source": [
    "user_prompt = f\"\"\"\n",
    "Translate the article below into English\n",
    "\n",
    "{article}\n",
    "\"\"\"\n",
    "\n",
    "system_prompt = \"\"\"\n",
    "Act as a Japanese to English translator.\n",
    "Task:\n",
    "A. Translate the article from Japanese to English.\n",
    "\"\"\"\n",
    "\n",
    "completion = client.chat.completions.create(\n",
    "  model=\"gpt-3.5-turbo\",\n",
    "  messages=[\n",
    "    {\n",
    "        \"role\": \"system\", \n",
    "        \"content\": system_prompt\n",
    "    },\n",
    "    {\n",
    "        \"role\": \"user\", \n",
    "        \"content\": user_prompt\n",
    "    }\n",
    "  ],\n",
    ")\n",
    "\n",
    "\n",
    "output = completion.choices[0].message.content\n",
    "output"
   ]
  }
 ],
 "metadata": {
  "kernelspec": {
   "display_name": "hacknroll",
   "language": "python",
   "name": "python3"
  },
  "language_info": {
   "codemirror_mode": {
    "name": "ipython",
    "version": 3
   },
   "file_extension": ".py",
   "mimetype": "text/x-python",
   "name": "python",
   "nbconvert_exporter": "python",
   "pygments_lexer": "ipython3",
   "version": "3.8.18"
  }
 },
 "nbformat": 4,
 "nbformat_minor": 2
}
